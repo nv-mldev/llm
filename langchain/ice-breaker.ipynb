{
 "cells": [
  {
   "cell_type": "markdown",
   "id": "2346526e",
   "metadata": {},
   "source": [
    "# ⛓️ LangChain\n",
    "\n",
    "LangChain is an open-source framework designed to help developers build applications powered by large language models (LLMs) — especially those that require:\n",
    "- Reasoning (chains of thought or planning steps)\n",
    "- Tool use (search, code execution, APIs, databases)\n",
    "- Memory (for chat or multi-step workflows)\n",
    "- Agentic behavior (deciding what to do next)\n",
    "- Integration with real-world data sources (like PDFs, websites, SQL databases, etc.)\n",
    "\n",
    "## 🔨 Core Concepts\n",
    "\n",
    "| **Concept**               | **Description**                                                                 |\n",
    "|---------------------------|---------------------------------------------------------------------------------|\n",
    "| **Chains**                | Sequences of LLM calls and functions (e.g., ask LLM → call API → summarize).   |\n",
    "| **Agents**                | LLMs that decide what actions to take (e.g., tools to use) dynamically.         |\n",
    "| **Tools**                 | External resources (search engines, code execution, databases).                 |\n",
    "| **Memory**                | Keeps context over a conversation or across sessions.                          |\n",
    "| **Retrievers**            | Fetch relevant data chunks (e.g., from documents or embeddings).                |\n",
    "| **Document Loaders**      | Load PDFs, websites, CSVs, etc., to prepare for retrieval.                      |\n",
    "| **Embeddings & Vector Stores** | For semantic search (e.g., FAISS, Chroma, Weaviate).                     |\n",
    "\n",
    "\n",
    "## 🛠️ Ecosystem & Integrations\n",
    "\n",
    "LangChain integrates with:\n",
    "- LLMs: OpenAI, Anthropic, HuggingFace, Mistral (via open source), Ollama, etc.\n",
    "- Databases: SQL, MongoDB, Elasticsearch\n",
    "- Vector stores: FAISS, Chroma, Pinecone, Weaviate\n",
    "- Web scraping and file parsing: BeautifulSoup, PyPDF, Unstructured.io\n",
    "- Cloud platforms: AWS, Azure, GCP"
   ]
  },
  {
   "cell_type": "code",
   "execution_count": null,
   "id": "d0f46ec6",
   "metadata": {},
   "outputs": [],
   "source": [
    "from dotenv import load_dotenv\n",
    "from langchain.prompts import PromptTemplate\n",
    "from langchain_ollama import ChatOllama\n"
   ]
  }
 ],
 "metadata": {
  "kernelspec": {
   "display_name": "langchain",
   "language": "python",
   "name": "python3"
  },
  "language_info": {
   "name": "python",
   "version": "3.12.3"
  }
 },
 "nbformat": 4,
 "nbformat_minor": 5
}
